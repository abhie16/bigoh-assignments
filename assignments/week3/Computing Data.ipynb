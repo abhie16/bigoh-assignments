{
 "cells": [
  {
   "cell_type": "code",
   "execution_count": 2,
   "id": "0134f2a7",
   "metadata": {},
   "outputs": [],
   "source": [
    "import numpy as np\n",
    "import math as mth"
   ]
  },
  {
   "cell_type": "code",
   "execution_count": 6,
   "id": "52b07fce",
   "metadata": {},
   "outputs": [
    {
     "data": {
      "text/plain": [
       "array([[ 5,  5],\n",
       "       [11, 11],\n",
       "       [17, 17]])"
      ]
     },
     "execution_count": 6,
     "metadata": {},
     "output_type": "execute_result"
    }
   ],
   "source": [
    "# Multplication of two matrix\n",
    "m1 = np.array([[1,2],[3,4],[5,6]]) # 2x3\n",
    "m2 = np.array([[1,1],[2,2]]) # 2x2\n",
    "np.dot(m1,m2)"
   ]
  },
  {
   "cell_type": "code",
   "execution_count": 13,
   "id": "d94f64b8",
   "metadata": {},
   "outputs": [
    {
     "data": {
      "text/plain": [
       "array([[ 1,  4],\n",
       "       [ 3, 12],\n",
       "       [ 5, 24]])"
      ]
     },
     "execution_count": 13,
     "metadata": {},
     "output_type": "execute_result"
    }
   ],
   "source": [
    "# Elements wise multiplication\n",
    "m3 = np.array([[1,2],[1,3],[1,4]])\n",
    "m1*m3"
   ]
  },
  {
   "cell_type": "code",
   "execution_count": 15,
   "id": "6a4fcbe6",
   "metadata": {},
   "outputs": [
    {
     "data": {
      "text/plain": [
       "array([[ 1,  4],\n",
       "       [ 9, 16],\n",
       "       [25, 36]])"
      ]
     },
     "execution_count": 15,
     "metadata": {},
     "output_type": "execute_result"
    }
   ],
   "source": [
    "# Element wise squaring\n",
    "np.square(m1)"
   ]
  },
  {
   "cell_type": "code",
   "execution_count": 18,
   "id": "41908518",
   "metadata": {},
   "outputs": [
    {
     "data": {
      "text/plain": [
       "array([[1.        , 0.5       ],\n",
       "       [0.33333333, 0.25      ],\n",
       "       [0.2       , 0.16666667]])"
      ]
     },
     "execution_count": 18,
     "metadata": {},
     "output_type": "execute_result"
    }
   ],
   "source": [
    "# Element wise reciprocal\n",
    "np.reciprocal(m1.astype(float))"
   ]
  },
  {
   "cell_type": "code",
   "execution_count": 20,
   "id": "1c98c2ae",
   "metadata": {},
   "outputs": [
    {
     "data": {
      "text/plain": [
       "array([[0.        , 0.69314718],\n",
       "       [1.09861229, 1.38629436],\n",
       "       [1.60943791, 1.79175947]])"
      ]
     },
     "execution_count": 20,
     "metadata": {},
     "output_type": "execute_result"
    }
   ],
   "source": [
    "# Element wise logrithm\n",
    "np.log(m1)"
   ]
  },
  {
   "cell_type": "code",
   "execution_count": 22,
   "id": "c5b4d77a",
   "metadata": {},
   "outputs": [
    {
     "data": {
      "text/plain": [
       "array([[  2.71828183,   7.3890561 ],\n",
       "       [ 20.08553692,  54.59815003],\n",
       "       [148.4131591 , 403.42879349]])"
      ]
     },
     "execution_count": 22,
     "metadata": {},
     "output_type": "execute_result"
    }
   ],
   "source": [
    "# Element wise exponential\n",
    "np.exp(m1)"
   ]
  },
  {
   "cell_type": "code",
   "execution_count": 24,
   "id": "209927db",
   "metadata": {},
   "outputs": [
    {
     "data": {
      "text/plain": [
       "array([[-1, -2],\n",
       "       [-3, -4],\n",
       "       [-5, -6]])"
      ]
     },
     "execution_count": 24,
     "metadata": {},
     "output_type": "execute_result"
    }
   ],
   "source": [
    "# Negative Elements\n",
    "-m1"
   ]
  },
  {
   "cell_type": "code",
   "execution_count": 28,
   "id": "77bddb18",
   "metadata": {},
   "outputs": [
    {
     "data": {
      "text/plain": [
       "array([[2, 3],\n",
       "       [4, 5],\n",
       "       [6, 7]])"
      ]
     },
     "execution_count": 28,
     "metadata": {},
     "output_type": "execute_result"
    }
   ],
   "source": [
    "# Incrementing Elements with one\n",
    "# m1 + np.ones(m1.shape, dtype=int)\n",
    "m1 + 1"
   ]
  },
  {
   "cell_type": "code",
   "execution_count": 34,
   "id": "90abc287",
   "metadata": {},
   "outputs": [
    {
     "data": {
      "text/plain": [
       "array([[1, 3, 5],\n",
       "       [2, 4, 6]])"
      ]
     },
     "execution_count": 34,
     "metadata": {},
     "output_type": "execute_result"
    }
   ],
   "source": [
    "# Transpose \n",
    "m1.transpose()"
   ]
  },
  {
   "cell_type": "code",
   "execution_count": 37,
   "id": "a0205700",
   "metadata": {},
   "outputs": [
    {
     "data": {
      "text/plain": [
       "6"
      ]
     },
     "execution_count": 37,
     "metadata": {},
     "output_type": "execute_result"
    }
   ],
   "source": [
    "# Get Max Element\n",
    "m1.max()"
   ]
  },
  {
   "cell_type": "code",
   "execution_count": 44,
   "id": "7e468856",
   "metadata": {},
   "outputs": [
    {
     "data": {
      "text/plain": [
       "array([2, 4, 6])"
      ]
     },
     "execution_count": 44,
     "metadata": {},
     "output_type": "execute_result"
    }
   ],
   "source": [
    "# Get column wise max value\n",
    "np.amax(m1,axis=1) \n",
    "# Change Value of axis to 0 to get the row wise max"
   ]
  },
  {
   "cell_type": "code",
   "execution_count": 46,
   "id": "8fcee012",
   "metadata": {},
   "outputs": [
    {
     "data": {
      "text/plain": [
       "array([1, 3, 5])"
      ]
     },
     "execution_count": 46,
     "metadata": {},
     "output_type": "execute_result"
    }
   ],
   "source": [
    "# Get column wise min value\n",
    "np.amin(m1,axis=1) \n",
    "# Change Value of axis to 0 to get the row wise min"
   ]
  },
  {
   "cell_type": "code",
   "execution_count": 48,
   "id": "7a42885d",
   "metadata": {},
   "outputs": [
    {
     "data": {
      "text/plain": [
       "array([[ True,  True],\n",
       "       [False, False],\n",
       "       [False, False]])"
      ]
     },
     "execution_count": 48,
     "metadata": {},
     "output_type": "execute_result"
    }
   ],
   "source": [
    "# Element wise comparision\n",
    "m1<3"
   ]
  },
  {
   "cell_type": "code",
   "execution_count": 57,
   "id": "90731d94",
   "metadata": {},
   "outputs": [
    {
     "data": {
      "text/plain": [
       "array([1, 2, 3, 4, 5])"
      ]
     },
     "execution_count": 57,
     "metadata": {},
     "output_type": "execute_result"
    }
   ],
   "source": [
    "# Find Element with comparision\n",
    "ind = np.where(m1<6) # returns indices of the satisfied condition\n",
    "m1[ind]"
   ]
  },
  {
   "cell_type": "code",
   "execution_count": 63,
   "id": "58413314",
   "metadata": {},
   "outputs": [
    {
     "data": {
      "text/plain": [
       "21"
      ]
     },
     "execution_count": 63,
     "metadata": {},
     "output_type": "execute_result"
    }
   ],
   "source": [
    "# Get the sum of all the Elements\n",
    "m1.sum()"
   ]
  },
  {
   "cell_type": "code",
   "execution_count": 65,
   "id": "b5d0783a",
   "metadata": {},
   "outputs": [
    {
     "data": {
      "text/plain": [
       "720"
      ]
     },
     "execution_count": 65,
     "metadata": {},
     "output_type": "execute_result"
    }
   ],
   "source": [
    "# Get the product of all the Elements\n",
    "m1.prod()"
   ]
  },
  {
   "cell_type": "code",
   "execution_count": 70,
   "id": "c5d155c8",
   "metadata": {},
   "outputs": [
    {
     "data": {
      "text/plain": [
       "array([1, 2, 3, 4, 5, 6])"
      ]
     },
     "execution_count": 70,
     "metadata": {},
     "output_type": "execute_result"
    }
   ],
   "source": [
    "# Flattern Elements\n",
    "m1.flatten()"
   ]
  },
  {
   "cell_type": "code",
   "execution_count": null,
   "id": "d0c6c202",
   "metadata": {},
   "outputs": [],
   "source": []
  }
 ],
 "metadata": {
  "kernelspec": {
   "display_name": "Python 3 (ipykernel)",
   "language": "python",
   "name": "python3"
  },
  "language_info": {
   "codemirror_mode": {
    "name": "ipython",
    "version": 3
   },
   "file_extension": ".py",
   "mimetype": "text/x-python",
   "name": "python",
   "nbconvert_exporter": "python",
   "pygments_lexer": "ipython3",
   "version": "3.9.12"
  }
 },
 "nbformat": 4,
 "nbformat_minor": 5
}
