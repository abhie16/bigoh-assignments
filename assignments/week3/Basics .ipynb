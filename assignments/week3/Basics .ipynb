{
 "cells": [
  {
   "cell_type": "code",
   "execution_count": 5,
   "id": "bd4c160e",
   "metadata": {},
   "outputs": [],
   "source": [
    "import numpy as np"
   ]
  },
  {
   "cell_type": "code",
   "execution_count": 37,
   "id": "cda0caa4",
   "metadata": {},
   "outputs": [],
   "source": [
    "import math as mth"
   ]
  },
  {
   "cell_type": "code",
   "execution_count": 38,
   "id": "a62a3a9a",
   "metadata": {},
   "outputs": [],
   "source": [
    "import matplotlib.pyplot as plt"
   ]
  },
  {
   "cell_type": "code",
   "execution_count": 14,
   "id": "0225c86d",
   "metadata": {},
   "outputs": [
    {
     "data": {
      "text/plain": [
       "3.141592653589793"
      ]
     },
     "execution_count": 14,
     "metadata": {},
     "output_type": "execute_result"
    }
   ],
   "source": [
    "# pi value\n",
    "piValue = mth.pi\n",
    "piValue"
   ]
  },
  {
   "cell_type": "code",
   "execution_count": 16,
   "id": "339b49bb",
   "metadata": {},
   "outputs": [
    {
     "data": {
      "text/plain": [
       "3.14"
      ]
     },
     "execution_count": 16,
     "metadata": {},
     "output_type": "execute_result"
    }
   ],
   "source": [
    "# Add Precision on float value\n",
    "round(piValue, 2)"
   ]
  },
  {
   "cell_type": "code",
   "execution_count": 2,
   "id": "044473a4",
   "metadata": {},
   "outputs": [
    {
     "data": {
      "text/plain": [
       "[[1, 2, 3], [4, 5, 6], [7, 8, 9]]"
      ]
     },
     "execution_count": 2,
     "metadata": {},
     "output_type": "execute_result"
    }
   ],
   "source": [
    "# Create matrix\n",
    "mx = [[1,2,3], [4,5,6], [7,8,9]]\n",
    "mx"
   ]
  },
  {
   "cell_type": "code",
   "execution_count": 3,
   "id": "7d0a4fc3",
   "metadata": {},
   "outputs": [
    {
     "data": {
      "text/plain": [
       "[[4, 5, 6]]"
      ]
     },
     "execution_count": 3,
     "metadata": {},
     "output_type": "execute_result"
    }
   ],
   "source": [
    "# Get Value in Range from matrix\n",
    "mx[1:2]"
   ]
  },
  {
   "cell_type": "code",
   "execution_count": 21,
   "id": "e9df3043",
   "metadata": {},
   "outputs": [
    {
     "data": {
      "text/plain": [
       "array([[0., 0., 0.],\n",
       "       [0., 0., 0.]])"
      ]
     },
     "execution_count": 21,
     "metadata": {},
     "output_type": "execute_result"
    }
   ],
   "source": [
    "# 2,3 matrix having all element zeros\n",
    "np.zeros((2,3))"
   ]
  },
  {
   "cell_type": "code",
   "execution_count": 23,
   "id": "d626d97d",
   "metadata": {},
   "outputs": [
    {
     "data": {
      "text/plain": [
       "array([[1, 1, 1],\n",
       "       [1, 1, 1]], dtype=int32)"
      ]
     },
     "execution_count": 23,
     "metadata": {},
     "output_type": "execute_result"
    }
   ],
   "source": [
    "# 2,3 Matrix having all element ones\n",
    "np.ones((2,3), dtype = np.int32) # Specifyning Type"
   ]
  },
  {
   "cell_type": "code",
   "execution_count": 26,
   "id": "b7702f68",
   "metadata": {},
   "outputs": [
    {
     "data": {
      "text/plain": [
       "array([[2, 2, 2],\n",
       "       [2, 2, 2]], dtype=int32)"
      ]
     },
     "execution_count": 26,
     "metadata": {},
     "output_type": "execute_result"
    }
   ],
   "source": [
    "# multplying matrix with any number\n",
    "np.ones((2,3), dtype = np.int32) * 2"
   ]
  },
  {
   "cell_type": "code",
   "execution_count": 31,
   "id": "71fd3223",
   "metadata": {},
   "outputs": [
    {
     "data": {
      "text/plain": [
       "array([[0.77157617, 0.30992386, 0.7449681 ],\n",
       "       [0.02361699, 0.28799773, 0.6205209 ]])"
      ]
     },
     "execution_count": 31,
     "metadata": {},
     "output_type": "execute_result"
    }
   ],
   "source": [
    "# Random matrix\n",
    "np.random.rand(2,3)"
   ]
  },
  {
   "cell_type": "code",
   "execution_count": 34,
   "id": "6c0b1bc5",
   "metadata": {},
   "outputs": [
    {
     "data": {
      "text/plain": [
       "array([[5, 5, 3],\n",
       "       [1, 7, 4]])"
      ]
     },
     "execution_count": 34,
     "metadata": {},
     "output_type": "execute_result"
    }
   ],
   "source": [
    "# Randome matrix with type \n",
    "np.random.randint(10, size=(2, 3))"
   ]
  },
  {
   "cell_type": "code",
   "execution_count": 39,
   "id": "bb32ea91",
   "metadata": {},
   "outputs": [
    {
     "data": {
      "text/plain": [
       "2.0"
      ]
     },
     "execution_count": 39,
     "metadata": {},
     "output_type": "execute_result"
    }
   ],
   "source": [
    "# Square root\n",
    "mth.sqrt(4)"
   ]
  },
  {
   "cell_type": "code",
   "execution_count": 85,
   "id": "ea8532ac",
   "metadata": {},
   "outputs": [
    {
     "data": {
      "text/plain": [
       "array([-4.28195182, -4.50471479, -5.95131447, -4.78773461, -4.42448077,\n",
       "       -2.85160771, -3.51741585, -4.73158899, -5.35474152, -5.75302927,\n",
       "       -4.66534098, -3.91970699, -4.3143987 , -3.20529541, -5.46954391,\n",
       "       -4.22814414, -4.13427946, -5.19844393, -3.63781283, -5.43082442,\n",
       "       -5.46332559, -5.93954259, -5.63072429, -4.72198617, -5.84220582,\n",
       "       -4.11023833, -5.98701521, -5.04237107, -5.12869246, -3.19350681,\n",
       "       -5.32935439, -4.38663414, -4.01106281, -4.36758804, -2.85417516,\n",
       "       -4.71874417, -4.63954787, -4.67664656, -3.70287196, -4.38175699,\n",
       "       -5.68876919, -5.02844081, -5.48946898, -4.38616158, -4.71230291,\n",
       "       -5.02658239, -3.88335345, -3.89670739, -3.9690466 , -4.98991793,\n",
       "       -3.59507751, -5.34812542, -2.95973523, -5.01100581, -5.91156436,\n",
       "       -5.14135679, -4.29190499, -5.31358039, -3.94708904, -4.16127887,\n",
       "       -4.1489635 , -3.49205661, -4.94547647, -2.87875268, -5.07897563,\n",
       "       -3.61501129, -5.12449071, -5.87010094, -3.80329306, -2.98855686,\n",
       "       -3.78580405, -5.04113523, -5.89781346, -3.18626643, -3.12273967,\n",
       "       -3.91723446, -3.12250067, -3.88342639, -4.9740526 , -3.49370861,\n",
       "       -4.62320094, -4.68987593, -4.14397458, -3.90388365, -5.69977189,\n",
       "       -5.242792  , -4.16180269, -5.63968733, -5.57590318, -3.6509979 ,\n",
       "       -3.59213825, -4.34694878, -4.7724318 , -3.37707015, -2.92852899,\n",
       "       -3.29506595, -5.67562528, -5.41609878, -4.23775265, -4.39098126,\n",
       "       -4.58101376, -5.82317159, -5.9756111 , -4.51100261, -4.4722437 ,\n",
       "       -3.06462195, -5.91680023, -3.02873231, -4.41542631, -4.57982337,\n",
       "       -3.66543166, -4.95100669, -4.81978346, -3.14156562, -3.50732619,\n",
       "       -4.92636358, -5.16001255, -2.85403136, -4.10191558, -3.26680223,\n",
       "       -5.87851071, -5.89865988, -4.52006274, -3.0455733 , -5.23297204,\n",
       "       -4.0122256 , -3.82220855, -4.47071912, -5.31053438, -5.33698569,\n",
       "       -4.89105943, -4.39441552, -4.63616928, -3.12648972, -3.99452188,\n",
       "       -4.64113031, -3.13891053, -5.51149394, -5.77580894, -4.44644485,\n",
       "       -5.33916603, -3.96088171, -4.72934139, -4.3686214 , -5.23448348,\n",
       "       -4.29614997, -4.92026142, -5.36547507, -4.48159255, -4.65782187,\n",
       "       -3.84248565, -5.46252661, -5.65115273, -4.14592595, -4.14529305,\n",
       "       -5.18386834, -4.40359113, -4.3996254 , -5.29684132, -3.40791495,\n",
       "       -3.36467482, -3.9955695 , -3.44867792, -4.497681  , -5.79730807,\n",
       "       -3.01002232, -5.07219863, -2.88923474, -3.02942938, -4.72490235,\n",
       "       -5.95965431, -5.52147868, -5.31538141, -4.91056053, -5.86627623,\n",
       "       -4.86314187, -4.70618529, -4.84683276, -4.6492953 , -4.81135697,\n",
       "       -3.88233319, -4.25837007, -3.43704086, -3.6182685 , -4.08463258,\n",
       "       -3.896428  , -4.65565642, -5.52162898, -5.94613798, -4.92020534,\n",
       "       -4.28292097, -2.9252081 , -3.7205248 , -4.14785664, -3.44840464,\n",
       "       -4.99195311, -4.9779877 , -5.82773322, -2.90521016, -4.0354822 ,\n",
       "       -4.52132845, -3.42273638, -3.21179705, -2.85322903, -3.78781282,\n",
       "       -5.43027506, -5.68779475, -5.69295314, -4.76237686, -5.10708028,\n",
       "       -3.03843867, -5.89123323, -3.63036687, -5.26218654, -5.17778839,\n",
       "       -3.43777014, -4.65167505, -5.31064435, -3.26749337, -3.80993987,\n",
       "       -4.2944959 , -5.64484101, -3.83670036, -5.09269517, -4.29959726,\n",
       "       -4.51425044, -4.00077984, -3.21511214, -5.74879626, -3.4831353 ,\n",
       "       -5.79184166, -3.26577918, -3.87005041, -4.81252905, -4.2050728 ,\n",
       "       -3.31642946, -5.09586295, -5.71062431, -4.06256906, -4.68916684,\n",
       "       -4.65558334, -3.94592934, -4.25599464, -5.75369688, -3.48724473,\n",
       "       -5.83481427, -3.03067076, -3.25544209, -5.20823864, -4.2856916 ,\n",
       "       -4.98257917, -5.53295578, -4.61491969, -4.80062028, -4.43506055,\n",
       "       -5.02930931, -5.09322371, -4.59916706, -5.4409732 , -3.46405214,\n",
       "       -3.63832403, -5.62128759, -3.29671889, -4.82367219, -5.69014337,\n",
       "       -3.00703828, -3.37008955, -3.2645913 , -5.39727412, -4.39814927,\n",
       "       -4.89991728, -2.86786021, -5.1986797 , -4.15496476, -3.25107698,\n",
       "       -3.98240233, -5.61019131, -4.81927484, -4.06227741, -5.70804195,\n",
       "       -5.9726919 , -5.9000469 , -3.61439106, -4.71177277, -4.11904719,\n",
       "       -5.8816255 , -3.97835779, -4.89924479, -4.60865076, -3.44248511,\n",
       "       -5.81210057, -4.08084478, -5.54324703, -3.08245416, -5.71444455,\n",
       "       -5.9101066 , -5.0383337 , -4.13100512, -5.59470368, -5.46485384,\n",
       "       -3.18689469, -3.92537717, -5.76888308, -3.48057222, -5.70286201,\n",
       "       -4.0880378 , -3.67406406, -5.5308417 , -5.42168812, -4.42998788,\n",
       "       -4.42117191, -3.10617424, -4.26942421, -3.06560278, -4.84229968,\n",
       "       -3.77609834, -4.95235929, -4.43320159, -5.27307135, -3.31238172,\n",
       "       -4.68959124, -5.625838  , -4.56699267, -5.89363943, -5.97329623,\n",
       "       -3.02509678, -3.56499226, -4.19723404, -4.70695582, -5.50235281,\n",
       "       -3.02821589, -5.27349881, -5.63832062, -5.37500181, -3.94950914,\n",
       "       -4.89779275, -4.55419697, -2.86134771, -5.05773197, -2.91060461,\n",
       "       -5.58474179, -4.25142295, -3.69198784, -5.62864468, -5.71183903,\n",
       "       -3.99115625, -5.8895677 , -4.02527248, -2.96042028, -4.52608914,\n",
       "       -3.15623585, -3.18471925, -4.47596877, -5.66933707, -4.4637628 ,\n",
       "       -4.36874346, -5.45871064, -5.28249995, -3.70726298, -4.86423209,\n",
       "       -3.57756424, -3.96129522, -4.18210167, -4.83540275, -2.93168298,\n",
       "       -4.01872934, -5.0978222 , -3.0134298 , -4.25284992, -5.06122324,\n",
       "       -3.09322283, -3.13783325, -3.3867961 , -5.23126556, -4.73090052,\n",
       "       -5.70726835, -3.07063037, -3.36665973, -3.90458668, -3.4971384 ,\n",
       "       -4.33716483, -4.44283986, -4.73288939, -4.08738685, -3.08371358,\n",
       "       -5.48151033, -4.53212495, -5.18409951, -4.61510119, -5.7611263 ,\n",
       "       -3.18392627, -2.95569774, -5.90254679, -4.05650684, -4.75387685,\n",
       "       -5.85952733, -4.43358168, -5.34086274, -4.38284805, -4.77045063,\n",
       "       -3.52322714, -4.20334195, -3.77143624, -4.85218007, -4.17811763,\n",
       "       -4.94281398, -3.52550747, -4.7249323 , -3.52785616, -4.93439042,\n",
       "       -3.31981065, -2.94565745, -5.04368214, -4.99601967, -3.41253239,\n",
       "       -5.3091073 , -4.20423879, -4.28118533, -5.54772423, -5.87063402,\n",
       "       -2.87895644, -3.78175893, -4.11163361, -3.33191742, -4.76082668,\n",
       "       -5.75174194, -4.91440149, -3.36863354, -4.90088531, -3.23610995,\n",
       "       -3.96106179, -4.27435975, -5.32013323, -4.40656103, -4.19805235,\n",
       "       -4.36971442, -4.11104669, -4.28495142, -5.94486333, -4.68020736,\n",
       "       -5.45206918, -5.68231293, -4.47945249, -3.80178868, -3.85915411,\n",
       "       -3.68372366, -4.93199479, -5.60745253, -4.54653496, -4.00882635,\n",
       "       -4.42675059, -3.39831484, -4.00330203, -4.64681485, -3.38734979,\n",
       "       -5.9223964 , -4.87614011, -4.21213121, -3.77270598, -4.13693983,\n",
       "       -4.20892407, -4.06651191, -3.25912375, -4.58502849, -4.6910627 ,\n",
       "       -3.40726966, -3.04552135, -5.91161397, -3.66404747, -4.71056736,\n",
       "       -4.64153489, -5.62778549, -3.08119026, -3.21902622, -3.13010135,\n",
       "       -5.6543983 , -3.92780006, -3.90504791, -4.84760448, -3.65901977,\n",
       "       -3.50059026, -4.17206421, -5.84605051, -5.96782722, -2.95769863,\n",
       "       -5.91469804, -5.37542995, -4.39173001, -4.53004142, -5.14303016,\n",
       "       -2.90759778, -5.47084323, -4.21061947, -3.65330896, -5.96857302,\n",
       "       -5.94088029, -3.24231483, -5.2132908 , -5.63385163, -5.1436114 ,\n",
       "       -4.3285789 , -5.77405518, -3.27931357, -5.04285446, -3.06631196,\n",
       "       -5.61625957, -5.29223582, -4.0725714 , -4.80697464, -5.85906133,\n",
       "       -3.72324368, -4.39014599, -4.37013355, -4.71388829, -4.46827818,\n",
       "       -3.57518352, -3.31307803, -3.25492807, -2.97378375, -4.05704612,\n",
       "       -2.94109731, -4.46739296, -4.42032877, -5.68971833, -5.83685762,\n",
       "       -2.94838451, -4.77459868, -5.05286849, -3.55890382, -5.88364369,\n",
       "       -3.61537773, -3.85818649, -4.84539033, -4.18727765, -5.18909454,\n",
       "       -3.13322381, -5.93966723, -5.13627131, -4.1956241 , -3.60569585,\n",
       "       -4.54609949, -5.79593491, -4.13473426, -5.00558506, -3.05722395,\n",
       "       -5.16837353, -5.96148271, -4.02411506, -2.97410767, -4.03144488,\n",
       "       -3.96432379, -3.36709918, -4.27929102, -2.98060562, -3.91067688,\n",
       "       -4.38208743, -4.91063316, -5.14766484, -3.92579431, -4.26825648,\n",
       "       -4.1991953 , -3.06462539, -5.9336531 , -4.96645864, -5.89148018,\n",
       "       -5.19868281, -4.83670628, -5.27495921, -3.59786393, -5.53134369,\n",
       "       -5.53801243, -3.31997531, -3.86536908, -3.64936   , -5.09830671,\n",
       "       -5.81109096, -4.60980266, -4.46849654, -3.2735272 , -4.00975371,\n",
       "       -2.87021227, -3.30258531, -4.89457092, -5.06288913, -4.71740638,\n",
       "       -5.89317734, -3.53746324, -5.60985084, -3.16513678, -5.40906045,\n",
       "       -5.18526942, -3.56262423, -3.87282683, -5.25073559, -3.11883816,\n",
       "       -5.10534262, -4.52459293, -3.22375515, -4.9688993 , -5.21594226,\n",
       "       -3.64772944, -4.8031991 , -5.23146647, -5.23322124, -3.40292045,\n",
       "       -3.75203816, -4.4437978 , -3.62610882, -3.01692347, -3.96354726,\n",
       "       -4.54191992, -3.79369008, -3.90315342, -3.18690464, -4.88025687,\n",
       "       -3.99132135, -5.09612733, -4.2223055 , -4.00468464, -5.96220198,\n",
       "       -3.28370676, -4.21430199, -2.8957901 , -4.15206727, -5.26112067,\n",
       "       -5.01361668, -3.56239217, -4.70029924, -5.40633249, -5.91182056,\n",
       "       -4.56808243, -4.11487641, -5.59621353, -4.4862849 , -4.47781288,\n",
       "       -3.68681953, -4.34045649, -3.41871834, -3.59274065, -5.24279054,\n",
       "       -5.22536755, -5.90411206, -5.10676644, -5.55502123, -5.76578686,\n",
       "       -3.09210582, -5.73338632, -4.82317959, -5.21520073, -3.63609444,\n",
       "       -4.19682035, -5.62450563, -3.98773741, -4.0584132 , -3.23815528,\n",
       "       -3.01911188, -5.28520327, -3.23444248, -3.1454914 , -5.07598579,\n",
       "       -4.75835417, -3.90146746, -5.48048518, -5.02674524, -5.81530629,\n",
       "       -3.57683038, -3.47105637, -3.55299713, -5.28578609, -4.91465407,\n",
       "       -4.45923149, -4.81485981, -2.8701012 , -4.39738729, -4.02182492,\n",
       "       -2.95205865, -4.90155086, -5.88001897, -5.71181886, -3.14327235,\n",
       "       -3.48007096, -3.29921713, -5.22673622, -5.13343686, -4.10524142,\n",
       "       -3.20325818, -5.35114673, -2.91788317, -4.21878706, -3.41568072,\n",
       "       -5.69135066, -3.60580862, -3.12772624, -3.37311014, -5.93909944,\n",
       "       -4.14799324, -5.16551179, -4.10538457, -4.45336017, -3.64530981,\n",
       "       -4.26280857, -4.41196671, -3.67472484, -3.68339878, -4.88053973,\n",
       "       -3.33383689, -3.54913069, -3.45589192, -2.99003849, -5.69582841,\n",
       "       -3.58361419, -5.11271029, -5.03141364, -5.87047415, -5.34114965,\n",
       "       -5.51001611, -5.50858006, -3.4075981 , -5.81386299, -5.66127658,\n",
       "       -5.31514922, -3.5302822 , -3.27671258, -4.82731666, -4.29476115,\n",
       "       -3.13392703, -5.11355091, -4.08044366, -5.21837106, -4.16325545,\n",
       "       -3.70662474, -4.95080664, -4.91516045, -3.47403773, -3.77692332,\n",
       "       -4.46978741, -5.85059771, -5.89820406, -3.81062268, -3.23738596,\n",
       "       -5.30290623, -3.42556405, -3.63020599, -3.51225009, -4.3694315 ,\n",
       "       -4.66450547, -3.49726849, -4.23135759, -4.88961407, -4.4611491 ,\n",
       "       -4.16008352, -5.748315  , -4.95993558, -4.3246768 , -4.73244097,\n",
       "       -3.2065    , -3.41622911, -5.50971801, -5.89523067, -5.36414317,\n",
       "       -3.41449339, -3.79180505, -4.69497171, -5.58383098, -4.87381283,\n",
       "       -4.04435588, -3.57959102, -5.68845081, -3.28163594, -4.11059033,\n",
       "       -5.6006499 , -3.74719723, -3.29183993, -4.7924064 , -4.27952185,\n",
       "       -4.92384323, -5.59328828, -5.72475943, -5.22860566, -4.67931549,\n",
       "       -5.89399799, -3.8056052 , -5.82061226, -5.94742393, -5.26320533,\n",
       "       -3.3451104 , -3.87305232, -5.36615605, -5.142384  , -4.18423116,\n",
       "       -3.43333938, -3.83528247, -4.87953865, -4.57508273, -4.6978873 ,\n",
       "       -2.89809307, -5.97112571, -5.92077746, -4.30810824, -3.30437529,\n",
       "       -4.37904997, -4.56564542, -5.19170295, -3.44878329, -5.92982531,\n",
       "       -3.61718956, -5.60199062, -4.7472211 , -4.6195    , -4.13499689,\n",
       "       -5.14352928, -4.15856634, -2.90549245, -4.58930265, -3.94517261,\n",
       "       -4.3908321 , -4.5941954 , -4.6234922 , -4.04144714, -3.9941455 ,\n",
       "       -4.18107969, -5.51108711, -2.93622897, -4.89673679, -3.51817409,\n",
       "       -3.06355258, -3.177877  , -5.36465627, -4.7885432 , -4.59430323,\n",
       "       -3.34366178, -5.49045619, -3.69728124, -4.26842912, -5.23747388,\n",
       "       -3.18319696, -4.23694925, -4.48885779, -5.26613856, -5.91833905,\n",
       "       -3.05915546, -4.38656544, -5.57197524, -5.14207414, -4.08315891,\n",
       "       -5.17713308, -5.8432594 , -4.64880272, -3.69311558, -5.35135622,\n",
       "       -3.90024795, -4.8963392 , -4.5730873 , -5.09648563, -5.00710573,\n",
       "       -3.35372906, -4.52566386, -5.62232571, -5.61101592, -4.7590243 ,\n",
       "       -4.15050443, -4.81886716, -3.43706535, -5.68820066, -4.41245331,\n",
       "       -4.25388326, -4.1719022 , -4.99720908, -5.69956005, -4.96328499,\n",
       "       -5.17225016, -5.10681705, -3.96659572, -3.66216071, -4.42059482,\n",
       "       -3.69365512, -3.38434935, -5.39882125, -3.19337958, -3.26915131,\n",
       "       -4.32466942, -5.61205307, -5.00012092, -2.90190503, -3.07205057,\n",
       "       -5.03626862, -4.08468828, -3.36846741, -4.19139668, -3.4200364 ,\n",
       "       -2.93433815, -5.04415854, -5.27335654, -5.05549379, -5.14125697,\n",
       "       -5.99477018, -3.04120833, -4.119317  , -3.10886105, -3.90880271,\n",
       "       -2.84636428, -4.58540408, -4.49879381, -3.09640314, -3.98155308,\n",
       "       -3.90431245, -5.54815204, -5.68095527, -4.06011441, -4.63944353,\n",
       "       -5.32043851, -5.62040735, -3.76857817, -5.82153563, -5.89742586,\n",
       "       -3.33420049, -3.362264  , -5.09266103, -3.95022842, -5.38776686,\n",
       "       -3.79120005, -4.30256156, -5.8726679 , -3.52468599, -4.88556263,\n",
       "       -4.75817604, -4.41701437, -5.59313215, -4.06851209, -3.99594525,\n",
       "       -3.55874604, -3.1188091 , -4.13134531, -5.72719812, -5.18486448,\n",
       "       -3.39140839, -3.14967032, -3.6648901 , -3.528446  , -3.60422226,\n",
       "       -4.0558661 , -3.65211545, -4.02391845, -3.16255135, -4.66539278,\n",
       "       -4.82453164, -3.85810795, -4.18607895, -4.53220934, -3.53060348,\n",
       "       -4.2284452 , -5.21444839, -5.40747323, -5.52029693, -3.00409794,\n",
       "       -5.90105789, -5.58898166, -4.99268721, -2.90165993, -4.7124115 ,\n",
       "       -3.72043599, -5.52825058, -5.04186658, -4.01933675, -4.96074055,\n",
       "       -3.12562484, -4.99195945, -3.36742109, -4.86609417, -4.22446811,\n",
       "       -3.60867139, -4.81974023, -3.74012099, -4.62654323, -3.26254508,\n",
       "       -4.84686459, -4.47358132, -3.00129084, -4.64539017, -5.92530799,\n",
       "       -3.34533305, -5.15160892, -4.2924547 , -5.1918808 , -4.29382388,\n",
       "       -2.86909382, -2.85726019, -4.38798449, -5.77185395, -4.85711264,\n",
       "       -3.46327534, -4.42288146, -4.81084404, -4.66956476, -3.23152991,\n",
       "       -4.09215236, -4.14406378, -4.16085933, -4.8112627 , -3.54100485])"
      ]
     },
     "execution_count": 85,
     "metadata": {},
     "output_type": "execute_result"
    }
   ],
   "source": [
    "w = -6 + mth.sqrt(10) * ( np.random.rand(1000))\n",
    "w"
   ]
  },
  {
   "cell_type": "code",
   "execution_count": 89,
   "id": "d8f09ad6",
   "metadata": {},
   "outputs": [
    {
     "data": {
      "image/png": "[encoded data removed]",
      "text/plain": [
       "<Figure size 640x480 with 1 Axes>"
      ]
     },
     "metadata": {},
     "output_type": "display_data"
    }
   ],
   "source": [
    "plt.hist(w, len(w))\n",
    "plt.show()"
   ]
  },
  {
   "cell_type": "code",
   "execution_count": 95,
   "id": "fd071e25",
   "metadata": {},
   "outputs": [
    {
     "data": {
      "text/plain": [
       "array([[1, 0],\n",
       "       [0, 1]])"
      ]
     },
     "execution_count": 95,
     "metadata": {},
     "output_type": "execute_result"
    }
   ],
   "source": [
    "# Identity Matrix with type\n",
    "np.identity(2, dtype = int)"
   ]
  },
  {
   "cell_type": "code",
   "execution_count": 161,
   "id": "71134947",
   "metadata": {},
   "outputs": [
    {
     "data": {
      "text/plain": [
       "[[1, 3, 4], [4, 5, 6]]"
      ]
     },
     "execution_count": 161,
     "metadata": {},
     "output_type": "execute_result"
    }
   ],
   "source": [
    "mx2 = [[1,3,4],[4,5,6]]\n",
    "mx2"
   ]
  },
  {
   "cell_type": "code",
   "execution_count": 162,
   "id": "873afe1e",
   "metadata": {},
   "outputs": [
    {
     "data": {
      "text/plain": [
       "matrix([[1, 3, 4],\n",
       "        [4, 5, 6]])"
      ]
     },
     "execution_count": 162,
     "metadata": {},
     "output_type": "execute_result"
    }
   ],
   "source": [
    "# converting list to matrix\n",
    "mx2 = np.matrix(mx2)\n",
    "mx2"
   ]
  },
  {
   "cell_type": "code",
   "execution_count": 164,
   "id": "09912170",
   "metadata": {},
   "outputs": [
    {
     "data": {
      "text/plain": [
       "matrix([[1, 3, 4],\n",
       "        [3, 3, 3]])"
      ]
     },
     "execution_count": 164,
     "metadata": {},
     "output_type": "execute_result"
    }
   ],
   "source": [
    "# replacing data from matrix\n",
    "mx2[1] = [3,3,3]\n",
    "mx2"
   ]
  },
  {
   "cell_type": "code",
   "execution_count": 214,
   "id": "4a862315",
   "metadata": {},
   "outputs": [
    {
     "data": {
      "text/plain": [
       "matrix([[1, 3, 4],\n",
       "        [3, 3, 3],\n",
       "        [1, 1, 1]])"
      ]
     },
     "execution_count": 214,
     "metadata": {},
     "output_type": "execute_result"
    }
   ],
   "source": [
    "# Appending data in matrix\n",
    "l1 = (mx2.tolist())\n",
    "l1.append([1,1,1])\n",
    "np.matrix(l1)"
   ]
  },
  {
   "cell_type": "code",
   "execution_count": 225,
   "id": "96297940",
   "metadata": {},
   "outputs": [
    {
     "data": {
      "text/plain": [
       "array([[1, 2, 3],\n",
       "       [4, 5, 6]])"
      ]
     },
     "execution_count": 225,
     "metadata": {},
     "output_type": "execute_result"
    }
   ],
   "source": [
    "arr = np.array([[1,2,3],[4,5,6]])\n",
    "arr"
   ]
  },
  {
   "cell_type": "code",
   "execution_count": 231,
   "id": "3210bb15",
   "metadata": {},
   "outputs": [
    {
     "data": {
      "text/plain": [
       "array([[1, 2, 3],\n",
       "       [4, 5, 6],\n",
       "       [1, 2, 3],\n",
       "       [1, 2, 3],\n",
       "       [1, 2, 3]])"
      ]
     },
     "execution_count": 231,
     "metadata": {},
     "output_type": "execute_result"
    }
   ],
   "source": [
    "# insert row in array\n",
    "newrow = [1, 2, 3]\n",
    "arrNew = np.vstack([arr, newrow])\n",
    "arr = arrNew\n",
    "arr"
   ]
  },
  {
   "cell_type": "code",
   "execution_count": 241,
   "id": "98ec2b06",
   "metadata": {},
   "outputs": [
    {
     "data": {
      "text/plain": [
       "array([[1, 2, 3, 0],\n",
       "       [4, 5, 6, 0],\n",
       "       [1, 2, 3, 0],\n",
       "       [1, 2, 3, 0],\n",
       "       [1, 2, 3, 0]])"
      ]
     },
     "execution_count": 241,
     "metadata": {},
     "output_type": "execute_result"
    }
   ],
   "source": [
    "# insert col in array\n",
    "newCol = [0,0,0,0,0]\n",
    "arrNew = (np.vstack([arr.transpose(), newCol])).transpose()\n",
    "arrNew"
   ]
  },
  {
   "cell_type": "code",
   "execution_count": 246,
   "id": "cabd11cb",
   "metadata": {},
   "outputs": [
    {
     "data": {
      "text/plain": [
       "array([[[1, 1],\n",
       "        [2, 2]],\n",
       "\n",
       "       [[3, 3],\n",
       "        [4, 4]]])"
      ]
     },
     "execution_count": 246,
     "metadata": {},
     "output_type": "execute_result"
    }
   ],
   "source": [
    "m1 = np.array([[1,1],[2,2]])\n",
    "m2 = np.array([[3,3],[4,4]])\n",
    "m3 = np.array([m1,m2])\n",
    "m3"
   ]
  }
 ],
 "metadata": {
  "kernelspec": {
   "display_name": "Python 3 (ipykernel)",
   "language": "python",
   "name": "python3"
  },
  "language_info": {
   "codemirror_mode": {
    "name": "ipython",
    "version": 3
   },
   "file_extension": ".py",
   "mimetype": "text/x-python",
   "name": "python",
   "nbconvert_exporter": "python",
   "pygments_lexer": "ipython3",
   "version": "3.9.10"
  }
 },
 "nbformat": 4,
 "nbformat_minor": 5
}
