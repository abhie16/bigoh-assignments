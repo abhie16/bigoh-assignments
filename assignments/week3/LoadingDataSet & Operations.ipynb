{
 "cells": [
  {
   "cell_type": "code",
   "execution_count": 4,
   "id": "a02d0012",
   "metadata": {},
   "outputs": [],
   "source": [
    "import math as mth\n",
    "import numpy as np\n",
    "import pandas as pd"
   ]
  },
  {
   "cell_type": "code",
   "execution_count": 46,
   "id": "35318255",
   "metadata": {},
   "outputs": [],
   "source": [
    "featuresData = pd.read_excel('features.xlsx', engine = 'openpyxl')\n",
    "priceData = pd.read_excel('price.xlsx', engine = 'openpyxl')"
   ]
  },
  {
   "cell_type": "code",
   "execution_count": 31,
   "id": "e6a00199",
   "metadata": {},
   "outputs": [
    {
     "data": {
      "text/plain": [
       "78"
      ]
     },
     "execution_count": 31,
     "metadata": {},
     "output_type": "execute_result"
    }
   ],
   "source": [
    "# get the number of elements\n",
    "featuresData.size\n"
   ]
  },
  {
   "cell_type": "code",
   "execution_count": 35,
   "id": "c21d77a3",
   "metadata": {},
   "outputs": [
    {
     "data": {
      "text/plain": [
       "(39, 2)"
      ]
     },
     "execution_count": 35,
     "metadata": {},
     "output_type": "execute_result"
    }
   ],
   "source": [
    "# shape of the data set\n",
    "featuresData.shape"
   ]
  },
  {
   "cell_type": "code",
   "execution_count": 37,
   "id": "aec20bb2",
   "metadata": {},
   "outputs": [
    {
     "data": {
      "text/plain": [
       "39"
      ]
     },
     "execution_count": 37,
     "metadata": {},
     "output_type": "execute_result"
    }
   ],
   "source": [
    "# get the number of rows\n",
    "len(featuresData)"
   ]
  },
  {
   "cell_type": "code",
   "execution_count": 60,
   "id": "b4f4584e",
   "metadata": {},
   "outputs": [
    {
     "data": {
      "text/plain": [
       "2"
      ]
     },
     "execution_count": 60,
     "metadata": {},
     "output_type": "execute_result"
    }
   ],
   "source": [
    "# get number of columns\n",
    "len(featuresData.columns)"
   ]
  },
  {
   "cell_type": "code",
   "execution_count": 65,
   "id": "cd826a16",
   "metadata": {},
   "outputs": [
    {
     "data": {
      "text/plain": [
       "<bound method DataFrame.info of     2384  3   \n",
       "0   7901     2\n",
       "1   4433     3\n",
       "2   9486     2\n",
       "3   5460     3\n",
       "4   3275     3\n",
       "5   7138     3\n",
       "6   9760     2\n",
       "7   6434     2\n",
       "8   4263     2\n",
       "9   1338     3\n",
       "10  4607     3\n",
       "11  6021     3\n",
       "12  2156     3\n",
       "13  3423     3\n",
       "14  8288     3\n",
       "15  6681     2\n",
       "16  9107     2\n",
       "17  2238     3\n",
       "18  6838     2\n",
       "19  2382     3\n",
       "20  4686     2\n",
       "21  1250     3\n",
       "22  2109     2\n",
       "23  2536     2\n",
       "24  4086     2\n",
       "25  1500     3\n",
       "26  4207     3\n",
       "27  6093     3\n",
       "28  8683     2\n",
       "29  3771     2\n",
       "30  9171     2\n",
       "31  5636     2\n",
       "32  8624     3\n",
       "33  6821     2\n",
       "34  2708     2\n",
       "35  1867     3\n",
       "36  2386     3\n",
       "37  5005     2\n",
       "38  3757     2>"
      ]
     },
     "execution_count": 65,
     "metadata": {},
     "output_type": "execute_result"
    }
   ],
   "source": [
    "# get the details of data set\n",
    "# featuresData.head\n",
    "featuresData.info"
   ]
  },
  {
   "cell_type": "code",
   "execution_count": 54,
   "id": "717bf679",
   "metadata": {},
   "outputs": [],
   "source": [
    "# get Data Set in range\n",
    "priceInRange = priceData[1:10]"
   ]
  },
  {
   "cell_type": "code",
   "execution_count": 55,
   "id": "65dd8627",
   "metadata": {},
   "outputs": [],
   "source": [
    "# save Data set in local\n",
    "priceInRange.to_csv('subPrice.csv') # It can be in any file type"
   ]
  }
 ],
 "metadata": {
  "kernelspec": {
   "display_name": "Python 3 (ipykernel)",
   "language": "python",
   "name": "python3"
  },
  "language_info": {
   "codemirror_mode": {
    "name": "ipython",
    "version": 3
   },
   "file_extension": ".py",
   "mimetype": "text/x-python",
   "name": "python",
   "nbconvert_exporter": "python",
   "pygments_lexer": "ipython3",
   "version": "3.9.10"
  }
 },
 "nbformat": 4,
 "nbformat_minor": 5
}
